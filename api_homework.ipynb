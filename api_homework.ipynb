{
 "cells": [
  {
   "cell_type": "code",
   "execution_count": 65,
   "metadata": {},
   "outputs": [],
   "source": [
    "import requests\n",
    "import pandas as pd"
   ]
  },
  {
   "cell_type": "code",
   "execution_count": 66,
   "metadata": {},
   "outputs": [],
   "source": [
    "url_method = 'https://api.hh.ru/vacancies' # Базовый URL API HH с методом 'vacancies'\n",
    "area = '1' # Регион Москва. Даные найдены в каталоге /areas\n",
    "date_from = '2023-09-01' # Дата начала поиска\n",
    "date_to = '2023-10-12' # Дата конца поиска\n",
    "text = \"NAME:(Data Scientist OR Machine Learning Engineer OR ML Engineer)\" # Текстовый запрос вакансий с применением языка поисковых запросов HH"
   ]
  },
  {
   "cell_type": "code",
   "execution_count": 67,
   "metadata": {},
   "outputs": [],
   "source": [
    "def api_request(page_number: str):\n",
    "    \n",
    "    payload = {'area' : area, 'date_from' : date_from,\n",
    "               'date_to' : date_to, 'text' : text,\n",
    "               'per_page' : '100', 'page' : str(page_number)}\n",
    "    \n",
    "    headers = { \"User-Agent\": \"api_agent\" }\n",
    "    \n",
    "    response = requests.get(url_method, params=payload, headers=headers)\n",
    "    data = response.json()\n",
    "    response.close()\n",
    "    return data"
   ]
  },
  {
   "cell_type": "code",
   "execution_count": 68,
   "metadata": {},
   "outputs": [],
   "source": [
    "def getVacancies():\n",
    "    page_number = 0\n",
    "    df = pd.DataFrame()\n",
    "    while len(api_request(page_number=page_number).get(\"items\", [])) > 0:\n",
    "        data = api_request(page_number=page_number).get(\"items\", [])\n",
    "        for i in range(len(data)):\n",
    "            row_dict = {\n",
    "                'id' : data[i]['id'],\n",
    "                'name' : data[i]['name'],\n",
    "                'published_at' : data[i]['published_at'][:10],\n",
    "                'employer_name' : data[i]['employer']['name'],\n",
    "                'schedule' : data[i]['schedule']['id'],\n",
    "                'experience' : data[i]['experience']['id'],\n",
    "                'employment' : data[i]['employment']['id'],\n",
    "                'geo_north' : [data[i]['address']['lat'] if data[i]['address'] is not None else 'No data'],\n",
    "                'geo_east' : [data[i]['address']['lng'] if data[i]['address'] is not None else 'No data']\n",
    "            }\n",
    "            \n",
    "            df_row = pd.DataFrame(row_dict, index=[0])\n",
    "            df = pd.concat([df, df_row])\n",
    "        page_number += 1\n",
    "    \n",
    "    return df\n",
    "\n",
    "vacancies_df = getVacancies()"
   ]
  },
  {
   "cell_type": "code",
   "execution_count": 69,
   "metadata": {},
   "outputs": [
    {
     "data": {
      "text/html": [
       "<div>\n",
       "<style scoped>\n",
       "    .dataframe tbody tr th:only-of-type {\n",
       "        vertical-align: middle;\n",
       "    }\n",
       "\n",
       "    .dataframe tbody tr th {\n",
       "        vertical-align: top;\n",
       "    }\n",
       "\n",
       "    .dataframe thead th {\n",
       "        text-align: right;\n",
       "    }\n",
       "</style>\n",
       "<table border=\"1\" class=\"dataframe\">\n",
       "  <thead>\n",
       "    <tr style=\"text-align: right;\">\n",
       "      <th></th>\n",
       "      <th>id</th>\n",
       "      <th>name</th>\n",
       "      <th>published_at</th>\n",
       "      <th>employer_name</th>\n",
       "      <th>schedule</th>\n",
       "      <th>experience</th>\n",
       "      <th>employment</th>\n",
       "      <th>geo_north</th>\n",
       "      <th>geo_east</th>\n",
       "    </tr>\n",
       "  </thead>\n",
       "  <tbody>\n",
       "    <tr>\n",
       "      <th>count</th>\n",
       "      <td>246</td>\n",
       "      <td>246</td>\n",
       "      <td>246</td>\n",
       "      <td>246</td>\n",
       "      <td>246</td>\n",
       "      <td>246</td>\n",
       "      <td>246</td>\n",
       "      <td>242</td>\n",
       "      <td>242</td>\n",
       "    </tr>\n",
       "    <tr>\n",
       "      <th>unique</th>\n",
       "      <td>246</td>\n",
       "      <td>191</td>\n",
       "      <td>25</td>\n",
       "      <td>122</td>\n",
       "      <td>4</td>\n",
       "      <td>4</td>\n",
       "      <td>2</td>\n",
       "      <td>65</td>\n",
       "      <td>65</td>\n",
       "    </tr>\n",
       "    <tr>\n",
       "      <th>top</th>\n",
       "      <td>88054843</td>\n",
       "      <td>Data Scientist</td>\n",
       "      <td>2023-09-25</td>\n",
       "      <td>СБЕР</td>\n",
       "      <td>fullDay</td>\n",
       "      <td>between3And6</td>\n",
       "      <td>full</td>\n",
       "      <td>No data</td>\n",
       "      <td>No data</td>\n",
       "    </tr>\n",
       "    <tr>\n",
       "      <th>freq</th>\n",
       "      <td>1</td>\n",
       "      <td>24</td>\n",
       "      <td>24</td>\n",
       "      <td>44</td>\n",
       "      <td>169</td>\n",
       "      <td>144</td>\n",
       "      <td>242</td>\n",
       "      <td>161</td>\n",
       "      <td>161</td>\n",
       "    </tr>\n",
       "  </tbody>\n",
       "</table>\n",
       "</div>"
      ],
      "text/plain": [
       "              id            name published_at employer_name schedule  \\\n",
       "count        246             246          246           246      246   \n",
       "unique       246             191           25           122        4   \n",
       "top     88054843  Data Scientist   2023-09-25          СБЕР  fullDay   \n",
       "freq           1              24           24            44      169   \n",
       "\n",
       "          experience employment geo_north geo_east  \n",
       "count            246        246       242      242  \n",
       "unique             4          2        65       65  \n",
       "top     between3And6       full   No data  No data  \n",
       "freq             144        242       161      161  "
      ]
     },
     "execution_count": 69,
     "metadata": {},
     "output_type": "execute_result"
    }
   ],
   "source": [
    "vacancies_df.describe()"
   ]
  },
  {
   "cell_type": "code",
   "execution_count": 74,
   "metadata": {},
   "outputs": [
    {
     "data": {
      "text/plain": [
       "<Axes: xlabel='employer_name'>"
      ]
     },
     "execution_count": 74,
     "metadata": {},
     "output_type": "execute_result"
    },
    {
     "data": {
      "image/png": "[encoded data removed]",
      "text/plain": [
       "<Figure size 640x480 with 1 Axes>"
      ]
     },
     "metadata": {},
     "output_type": "display_data"
    }
   ],
   "source": [
    "top_emp = vacancies_df.groupby('employer_name')['id'].count().nlargest(10)\n",
    "\n",
    "top_emp.plot(kind='bar', grid=True)"
   ]
  },
  {
   "cell_type": "markdown",
   "metadata": {},
   "source": [
    "### На долю какой компании пришлось больше всего опубликованных вакансий?\n",
    "\n",
    "Больше всего вакансий опубликовала компания CБЕР, целых 44 штуки!"
   ]
  },
  {
   "cell_type": "code",
   "execution_count": 71,
   "metadata": {},
   "outputs": [
    {
     "data": {
      "text/plain": [
       "<Axes: xlabel='published_at'>"
      ]
     },
     "execution_count": 71,
     "metadata": {},
     "output_type": "execute_result"
    },
    {
     "data": {
      "image/png": "[encoded data removed]",
      "text/plain": [
       "<Figure size 640x480 with 1 Axes>"
      ]
     },
     "metadata": {},
     "output_type": "display_data"
    }
   ],
   "source": [
    "dates = vacancies_df.groupby('published_at')['id'].count().nlargest(10)\n",
    "\n",
    "dates.plot(kind='bar', grid=True)"
   ]
  },
  {
   "cell_type": "markdown",
   "metadata": {},
   "source": [
    "Больше всего вакансий было опубликовано 25 сентября. Между прочим, в эту дату празднуется день Фармацевта. Совпадение? Не думаю... "
   ]
  },
  {
   "cell_type": "code",
   "execution_count": 72,
   "metadata": {},
   "outputs": [],
   "source": [
    "vacancies_df.to_csv('./hh.csv', index=False)"
   ]
  }
 ],
 "metadata": {
  "kernelspec": {
   "display_name": "Python 3",
   "language": "python",
   "name": "python3"
  },
  "language_info": {
   "codemirror_mode": {
    "name": "ipython",
    "version": 3
   },
   "file_extension": ".py",
   "mimetype": "text/x-python",
   "name": "python",
   "nbconvert_exporter": "python",
   "pygments_lexer": "ipython3",
   "version": "3.11.5"
  }
 },
 "nbformat": 4,
 "nbformat_minor": 2
}
